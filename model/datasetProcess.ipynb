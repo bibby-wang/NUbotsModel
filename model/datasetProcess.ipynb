{
 "cells": [
  {
   "cell_type": "markdown",
   "metadata": {},
   "source": [
    "# dataset Pre-process\n",
    "Convert multiple labeled masks to a black/white mask of a single object"
   ]
  },
  {
   "cell_type": "code",
   "execution_count": 19,
   "metadata": {},
   "outputs": [],
   "source": [
    "import numpy as np\n",
    "import argparse\n",
    "import cv2\n",
    "import matplotlib.pyplot as plt\n",
    "import os"
   ]
  },
  {
   "cell_type": "markdown",
   "metadata": {},
   "source": [
    "## load images"
   ]
  },
  {
   "cell_type": "code",
   "execution_count": null,
   "metadata": {},
   "outputs": [],
   "source": [
    "# Select data type\n",
    "T_DATA=\" ../NUbotsDataSet/train\"\n",
    "#T_DATA=\"../NUbotsDataSet/val\"\n",
    "imgLoadPath=T_DATA+\"/imgs/\"\n",
    "imgMaskLoadPath=T_DATA+\"/mask/\"\n",
    "imgSavePath=T_DATA+\"/classMask/\""
   ]
  },
  {
   "cell_type": "code",
   "execution_count": 4,
   "metadata": {},
   "outputs": [],
   "source": [
    "# resize\n",
    "# \n",
    "from PIL import Image\n",
    "import os.path\n",
    "import glob\n",
    "\n",
    "def convertjpg(jpgfile,outdir,width=640,height=512):\n",
    "    img=Image.open(jpgfile)\n",
    "    try:\n",
    "        new_img=img.resize((width,height),Image.BILINEAR)   \n",
    "        new_img.save(os.path.join(outdir,os.path.basename(jpgfile)))\n",
    "    except Exception as e:\n",
    "        print(e)\n",
    "for jpgfile in glob.glob(imgLoadPath+\"/*.jpg\"): \n",
    "    convertjpg(jpgfile,T_DATA+\"/resize/imgs/\")\n",
    "for jpgfile in glob.glob(imgMaskLoadPath+\"/*.png\"): \n",
    "    convertjpg(jpgfile,T_DATA+\"/resize/mask/\")"
   ]
  },
  {
   "cell_type": "code",
   "execution_count": 20,
   "metadata": {},
   "outputs": [
    {
     "name": "stdout",
     "output_type": "stream",
     "text": [
      "Total: 1\n"
     ]
    }
   ],
   "source": [
    "imgMaskLoadPath = T_DATA+\"/resize/mask/\"\n",
    "imgSavePath = T_DATA+\"/resize/classMask/\"\n",
    "imgLoadPath = T_DATA+\"/resize/imgs/\"\n",
    "imgList=os.listdir(imgMaskLoadPath) #list of images mask\n",
    "print(\"load from \"+imgMaskLoadPath+\", Total:\",len(imgList))"
   ]
  },
  {
   "cell_type": "code",
   "execution_count": 21,
   "metadata": {},
   "outputs": [
    {
     "name": "stdout",
     "output_type": "stream",
     "text": [
      "0000005002_L.png : 4 objects\n",
      "Total: 1 images, 4 objects\n"
     ]
    }
   ],
   "source": [
    "\n",
    "# define color of class\n",
    "goalColor = np.array([0,255,255]) # yellow\n",
    "fieldColor = np.array([0,255,0]) #  green\n",
    "markingColor = np.array([255,255,255]) # white\n",
    "ballColor = np.array([0,0,255]) # red\n",
    "#BGColor = np.array([0,0,0]) # black\n",
    "# group\n",
    "# className=[\"goal\", \"field\", \"marking\", \"ball\", \"BG\"]\n",
    "# classColor = [goalColor, fieldColor, markingColor, ballColor, BGColor]\n",
    "className=[\"goal\", \"field\", \"marking\", \"ball\"]\n",
    "classColor = [goalColor, fieldColor, markingColor, ballColor]\n",
    "cImg=0\n",
    "cAllObj=0\n",
    "# separate all images lables\n",
    "for imgName in imgList: \n",
    "    image = cv2.imread(imgMaskLoadPath+imgName) # using openCV read image mask file\n",
    "    classMasks=[] # Store mask of different classes\n",
    "    cImg+=1\n",
    "    cObj=0\n",
    "    for item in zip(className,classColor):# find and separate each class \n",
    "        #classMasks.append(cv2.inRange(image, item[1], item[1]))\n",
    "        if cv2.inRange(image, item[1], item[1]).any() > 0: \n",
    "            cObj+=1\n",
    "            cAllObj+=1\n",
    "            cv2.imwrite(imgSavePath+imgName.split(\".\")[0]+\"_{}.png\".format(item[0]), cv2.inRange(image, item[1], item[1]))\n",
    "    print(\"%s : %d objects\" %(imgName,cObj))\n",
    "print(\"Total: %d images, %d objects\" %(cImg,cAllObj))"
   ]
  },
  {
   "cell_type": "code",
   "execution_count": 22,
   "metadata": {},
   "outputs": [],
   "source": [
    "# # show\n",
    "# # cv2.imshow(\"images\", np.hstack([image, output]))\n",
    "# # cv2.waitKey(0)\n",
    "\n",
    "#mask = classMasks[0]\n",
    "\n",
    "# plt.figure(figsize=(10,5)) \n",
    "# plt.subplot(2,3,1), plt.title('image')\n",
    "# plt.imshow(image_merged), plt.axis('off')\n",
    "\n",
    "# plt.subplot(2,3,2), plt.title('image_gray')\n",
    "# plt.imshow(mask,cmap='gray'), plt.axis('off')\n",
    "\n",
    "# plt.subplot(2,3,3), plt.title('image_merged')\n",
    "# plt.imshow(image_merged), plt.axis('off')\n",
    "\n",
    "# plt.subplot(2,3,4), plt.title('ball')\n",
    "# plt.imshow(r,cmap='gray'), plt.axis('off')\n",
    "\n",
    "# plt.subplot(2,3,5), plt.title('goal')\n",
    "# plt.imshow(g,cmap='gray'), plt.axis('off')\n",
    "\n",
    "# plt.subplot(2,3,6), plt.title('field')\n",
    "# plt.imshow(b,cmap='gray'), plt.axis('off')\n",
    "# plt.show()\n",
    "\n",
    "# cv2.imwrite('yellow.png', mask)"
   ]
  },
  {
   "cell_type": "markdown",
   "metadata": {},
   "source": [
    "# JSON"
   ]
  },
  {
   "cell_type": "code",
   "execution_count": null,
   "metadata": {},
   "outputs": [],
   "source": []
  },
  {
   "cell_type": "code",
   "execution_count": 26,
   "metadata": {},
   "outputs": [
    {
     "name": "stdout",
     "output_type": "stream",
     "text": [
      "../NUbotDataSet/val\n",
      "../NUbotDataSet/val\\classMask\\0000005002_L_ball.png\n",
      "../NUbotDataSet/val\\classMask\\0000005002_L_field.png\n",
      "../NUbotDataSet/val\\classMask\\0000005002_L_goal.png\n",
      "../NUbotDataSet/val\\classMask\\0000005002_L_marking.png\n",
      "Done\n"
     ]
    }
   ],
   "source": [
    "# dataset png to json\n",
    "\n",
    "import datetime\n",
    "import json\n",
    "import os\n",
    "import re\n",
    "import fnmatch\n",
    "from PIL import Image\n",
    "import numpy as np\n",
    "from pycococreatortools import pycococreatortools\n",
    "\n",
    "ROOT_DIR = imgLoadPath\n",
    "print(ROOT_DIR)\n",
    "IMAGE_DIR = os.path.join(ROOT_DIR, \"imgs\")\n",
    "ANNOTATION_DIR = os.path.join(ROOT_DIR, \"classMask\")\n",
    "\n",
    "INFO = {\n",
    "    \"description\": \"NUbots_Dataset\",\n",
    "    \"url\": \"null\",\n",
    "    \"version\": \"0.1\",\n",
    "    \"year\": 2020,\n",
    "    \"contributor\": \"Bibby\",\n",
    "    \"date_created\": datetime.datetime.utcnow().isoformat(' ')\n",
    "}\n",
    "\n",
    "LICENSES = [\n",
    "    {\n",
    "        \"id\": 1,\n",
    "        \"name\": \"null\",\n",
    "        \"url\": \"null\"\n",
    "    }\n",
    "]\n",
    "# not sure if need Background \n",
    "CATEGORIES = [\n",
    "    {\n",
    "        'id': 1,\n",
    "        'name': 'goal',\n",
    "        'supercategory': 'item',\n",
    "    },\n",
    "    {\n",
    "        'id': 2,\n",
    "        'name': 'field',\n",
    "        'supercategory': 'item',\n",
    "    },\n",
    "    {\n",
    "        'id': 3,\n",
    "        'name': 'marking',\n",
    "        'supercategory': 'item',\n",
    "    },\n",
    "    {\n",
    "        'id': 4,\n",
    "        'name': 'ball',\n",
    "        'supercategory': 'item',\n",
    "    },\n",
    "]\n",
    "\n",
    "def filter_for_jpeg(root, files):\n",
    "    file_types = ['*.jpeg', '*.jpg']\n",
    "    file_types = r'|'.join([fnmatch.translate(x) for x in file_types])\n",
    "    files = [os.path.join(root, f) for f in files]\n",
    "    files = [f for f in files if re.match(file_types, f)]\n",
    "    \n",
    "    return files\n",
    "\n",
    "def filter_for_annotations(root, files, image_filename):\n",
    "    file_types = ['*.png']\n",
    "    file_types = r'|'.join([fnmatch.translate(x) for x in file_types])\n",
    "    basename_no_extension = os.path.splitext(os.path.basename(image_filename))[0]\n",
    "    file_name_prefix = basename_no_extension + '.*'\n",
    "    files = [os.path.join(root, f) for f in files]\n",
    "    files = [f for f in files if re.match(file_types, f)]\n",
    "    files = [f for f in files if re.match(file_name_prefix, os.path.splitext(os.path.basename(f))[0])]\n",
    "\n",
    "    return files\n",
    "\n",
    "def main():\n",
    "\n",
    "    coco_output = {\n",
    "        \"info\": INFO,\n",
    "        \"licenses\": LICENSES,\n",
    "        \"categories\": CATEGORIES,\n",
    "        \"images\": [],\n",
    "        \"annotations\": []\n",
    "    }\n",
    "\n",
    "    image_id = 1\n",
    "    segmentation_id = 1\n",
    "    \n",
    "    # filter for jpeg images\n",
    "    for root, _, files in os.walk(IMAGE_DIR):\n",
    "        image_files = filter_for_jpeg(root, files)\n",
    "\n",
    "        # go through each image\n",
    "        for image_filename in image_files:\n",
    "            image = Image.open(image_filename)\n",
    "            image_info = pycococreatortools.create_image_info(\n",
    "                image_id, os.path.basename(image_filename), image.size)\n",
    "            coco_output[\"images\"].append(image_info)\n",
    "\n",
    "            # filter for associated png annotations\n",
    "            for root, _, files in os.walk(ANNOTATION_DIR):\n",
    "                annotation_files = filter_for_annotations(root, files, image_filename)\n",
    "\n",
    "                # go through each associated annotation\n",
    "                for annotation_filename in annotation_files:\n",
    "                    \n",
    "                    print(annotation_filename)\n",
    "                    class_id = [x['id'] for x in CATEGORIES if x['name'] in annotation_filename][0]\n",
    "\n",
    "                    category_info = {'id': class_id, 'is_crowd': 'crowd' in image_filename}\n",
    "                    binary_mask = np.asarray(Image.open(annotation_filename)\n",
    "                        .convert('1')).astype(np.uint8)\n",
    "                    \n",
    "                    annotation_info = pycococreatortools.create_annotation_info(\n",
    "                        segmentation_id, image_id, category_info, binary_mask,\n",
    "                        image.size, tolerance=2)\n",
    "\n",
    "                    if annotation_info is not None:\n",
    "                        coco_output[\"annotations\"].append(annotation_info)\n",
    "\n",
    "                    segmentation_id = segmentation_id + 1\n",
    "\n",
    "            image_id = image_id + 1\n",
    "\n",
    "    with open('{}/NUbots_Dataset_A.json'.format(ROOT_DIR), 'w') as output_json_file:\n",
    "        json.dump(coco_output, output_json_file)\n",
    "\n",
    "\n",
    "if __name__ == \"__main__\":\n",
    "    main()\n",
    "    print(\"Done\")"
   ]
  },
  {
   "cell_type": "code",
   "execution_count": 24,
   "metadata": {},
   "outputs": [
    {
     "name": "stdout",
     "output_type": "stream",
     "text": [
      "[{'id': 1, 'name': 'goal', 'supercategory': 'item'}, {'id': 2, 'name': 'field', 'supercategory': 'item'}, {'id': 3, 'name': 'marking', 'supercategory': 'item'}, {'id': 4, 'name': 'ball', 'supercategory': 'item'}]\n"
     ]
    }
   ],
   "source": [
    "print(CATEGORIES)"
   ]
  },
  {
   "cell_type": "code",
   "execution_count": null,
   "metadata": {},
   "outputs": [],
   "source": []
  }
 ],
 "metadata": {
  "kernelspec": {
   "display_name": "Python 3",
   "language": "python",
   "name": "python3"
  },
  "language_info": {
   "codemirror_mode": {
    "name": "ipython",
    "version": 3
   },
   "file_extension": ".py",
   "mimetype": "text/x-python",
   "name": "python",
   "nbconvert_exporter": "python",
   "pygments_lexer": "ipython3",
   "version": "3.7.6"
  }
 },
 "nbformat": 4,
 "nbformat_minor": 4
}
